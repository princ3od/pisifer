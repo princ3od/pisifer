{
 "cells": [
  {
   "cell_type": "code",
   "execution_count": null,
   "id": "5837af1b",
   "metadata": {},
   "outputs": [],
   "source": [
    "#Import packages\n",
    "from gensim.models.doc2vec import Doc2Vec, TaggedDocument\n",
    "from gensim.parsing.preprocessing import remove_stopwords\n",
    "from gensim.parsing.preprocessing import STOPWORDS\n"
   ]
  },
  {
   "cell_type": "code",
   "execution_count": null,
   "id": "9106df20",
   "metadata": {},
   "outputs": [],
   "source": [
    "from tqdm import tqdm\n",
    "import numpy as np\n",
    "import gensim # thư viện NLP\n",
    "import os \n",
    "from nltk.tokenize import word_tokenize\n",
    "doc = []"
   ]
  },
  {
   "cell_type": "code",
   "execution_count": null,
   "id": "4e92e9a0",
   "metadata": {},
   "outputs": [],
   "source": [
    "dir_path = os.path.dirname(os.path.realpath(os.getcwd()))\n",
    "data_path = os.path.join(dir_path, 'data\\\\train_set_ielts')\n"
   ]
  },
  {
   "cell_type": "code",
   "execution_count": null,
   "id": "bc6bf239",
   "metadata": {},
   "outputs": [],
   "source": [
    "data_path\n"
   ]
  },
  {
   "cell_type": "code",
   "execution_count": null,
   "id": "76b95af8",
   "metadata": {},
   "outputs": [],
   "source": [
    "def rm_stopword(tokenized_doc):\n",
    "    tok_without_sw = [word for word in tokenized_doc if word.lower() not in STOPWORDS]\n",
    "    return tok_without_sw"
   ]
  },
  {
   "cell_type": "code",
   "execution_count": null,
   "id": "ae494281",
   "metadata": {},
   "outputs": [],
   "source": [
    "def get_data(folder_path):\n",
    "    dirs = os.listdir(folder_path)\n",
    "    processed_doc = []\n",
    "    for path in tqdm(dirs):\n",
    "        file_paths = os.listdir(os.path.join(folder_path, path))\n",
    "        for file_path in tqdm(file_paths):\n",
    "            with open(os.path.join(folder_path, path, file_path), 'r',encoding='utf-8') as f:\n",
    "                lines = f.readlines()\n",
    "                lines = ' '.join(lines)\n",
    "                lines = gensim.utils.simple_preprocess(lines)\n",
    "                lines = ' '.join(lines)\n",
    "\n",
    "                # Tokenization of each document\n",
    "                tokenized_doc = word_tokenize(lines.lower())\n",
    "                #remove stop word\n",
    "                tokenized_doc = rm_stopword(tokenized_doc, STOPWORDS)\n",
    "                processed_doc.append([tokenized_doc,path])\n",
    "    return processed_doc\n",
    "\n",
    "def run_test(model, test_doc):\n",
    "    test_pass = 0\n",
    "    for index in range(len(test_doc)):\n",
    "        result = model.docvecs.most_similar(positive=[model.infer_vector(test_doc[index][0])],topn=6)\n",
    "        if (result[0][0] == test_doc[index][1]):\n",
    "            test_pass+= 1\n",
    "    return [test_pass,len(test_doc)+1]"
   ]
  },
  {
   "cell_type": "code",
   "execution_count": null,
   "id": "8b3e9750",
   "metadata": {},
   "outputs": [],
   "source": [
    "data_train = get_data(data_path)\n",
    "# data_test = get_data(test_path)"
   ]
  },
  {
   "cell_type": "code",
   "execution_count": null,
   "id": "5c8b228d",
   "metadata": {},
   "outputs": [],
   "source": [
    "len(data_train)"
   ]
  },
  {
   "cell_type": "code",
   "execution_count": null,
   "id": "3d2604fd",
   "metadata": {},
   "outputs": [],
   "source": [
    "tagged_doc =[]\n",
    "for case in range(len(data_train)):\n",
    "    case_i = TaggedDocument(data_train[case][0],[data_train[case][1]])\n",
    "    tagged_doc.append(case_i)"
   ]
  },
  {
   "cell_type": "code",
   "execution_count": null,
   "id": "6536adfd",
   "metadata": {},
   "outputs": [],
   "source": [
    "import multiprocessing\n",
    "cores = multiprocessing.cpu_count()"
   ]
  },
  {
   "cell_type": "code",
   "execution_count": null,
   "id": "861846a9",
   "metadata": {},
   "outputs": [],
   "source": [
    "# Train doc2vec model\n",
    "model = Doc2Vec(tagged_doc, vector_size=300, window=5, min_count=20, workers=cores, epochs = 50)"
   ]
  },
  {
   "cell_type": "code",
   "execution_count": null,
   "id": "e13ba9e4",
   "metadata": {},
   "outputs": [],
   "source": [
    "# Save trained doc2vec model\n",
    "model_path = os.path.dirname(os.path.realpath(os.getcwd()))\n",
    "model_path = os.path.join(model_path, 'models\\\\doc2vec.model')\n",
    "model.save(model_path)"
   ]
  },
  {
   "cell_type": "code",
   "execution_count": null,
   "id": "afd6c3b7",
   "metadata": {},
   "outputs": [],
   "source": [
    "# Load saved doc2vec model\n",
    "model= Doc2Vec.load(model_path)"
   ]
  },
  {
   "cell_type": "code",
   "execution_count": null,
   "id": "293c76ff",
   "metadata": {},
   "outputs": [],
   "source": [
    "# find most similar doc topic\n",
    "\n",
    "text_check = \"\"\"\n",
    "India's rice export rates dropped to their lowest in three months on Thursday hit by subdued demand from buyers in Africa, while Vietnamese traders expected falling domestic supplies to cap a further decline in prices.\n",
    "\"\"\""
   ]
  },
  {
   "cell_type": "code",
   "execution_count": null,
   "id": "c4ad6141",
   "metadata": {},
   "outputs": [],
   "source": [
    "model = Doc2Vec.load(model_path)\n",
    "test_doc = word_tokenize(text_check.lower())\n",
    "result = model.docvecs.most_similar(positive=[model.infer_vector(test_doc)],topn=6)\n",
    "result"
   ]
  },
  {
   "cell_type": "code",
   "execution_count": null,
   "id": "32c46d20",
   "metadata": {},
   "outputs": [],
   "source": [
    "from inference import load_model, infer\n",
    "from gensim.models.doc2vec import Doc2Vec\n",
    "model = Doc2Vec.load(r\"C:\\Users\\ASUS\\Documents\\Projects\\Python\\topic-classification\\models\\d2v.model\")\n"
   ]
  }
 ],
 "metadata": {
  "interpreter": {
   "hash": "c2a992d86943bdbb1a93721aa8faf11a2d48a4b1fd05bac4b69f4b63e0ef12fd"
  },
  "kernelspec": {
   "display_name": "Python 3.9.7 64-bit",
   "name": "python3"
  },
  "language_info": {
   "codemirror_mode": {
    "name": "ipython",
    "version": 3
   },
   "file_extension": ".py",
   "mimetype": "text/x-python",
   "name": "python",
   "nbconvert_exporter": "python",
   "pygments_lexer": "ipython3",
   "version": "3.9.7"
  }
 },
 "nbformat": 4,
 "nbformat_minor": 5
}
