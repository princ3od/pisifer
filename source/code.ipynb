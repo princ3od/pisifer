{
 "cells": [
  {
   "cell_type": "code",
   "execution_count": 28,
   "source": [
    "#Import packages\r\n",
    "from gensim.models.doc2vec import Doc2Vec, TaggedDocument\r\n",
    "from gensim.parsing.preprocessing import remove_stopwords\r\n",
    "from gensim.parsing.preprocessing import STOPWORDS\r\n"
   ],
   "outputs": [],
   "metadata": {}
  },
  {
   "cell_type": "code",
   "execution_count": 29,
   "source": [
    "from tqdm import tqdm\r\n",
    "import numpy as np\r\n",
    "import gensim # thư viện NLP\r\n",
    "import os \r\n",
    "from nltk.tokenize import word_tokenize\r\n",
    "doc = []"
   ],
   "outputs": [],
   "metadata": {}
  },
  {
   "cell_type": "code",
   "execution_count": 30,
   "source": [
    "dir_path = os.path.dirname(os.path.realpath(os.getcwd()))\r\n",
    "data_path = os.path.join(dir_path, 'data\\\\train_set_ielts')\r\n",
    "test_path = os.path.join(dir_path, 'data\\\\test_set_ielts')"
   ],
   "outputs": [],
   "metadata": {}
  },
  {
   "cell_type": "code",
   "execution_count": 31,
   "source": [
    "data_path\r\n",
    "test_path"
   ],
   "outputs": [
    {
     "output_type": "execute_result",
     "data": {
      "text/plain": [
       "'D:\\\\Projects\\\\Python\\\\topic-classification\\\\data\\\\test_set_ielts'"
      ]
     },
     "metadata": {},
     "execution_count": 31
    }
   ],
   "metadata": {}
  },
  {
   "cell_type": "code",
   "execution_count": 32,
   "source": [
    "def rm_stopword(tokenized_doc,stop_words):\r\n",
    "    tok_without_sw=[]\r\n",
    "    for txt_tokens in tokenized_doc:\r\n",
    "        tok_without_sw = [word for word in tokenized_doc if not word.lower() in STOPWORDS]\r\n",
    "    return tok_without_sw"
   ],
   "outputs": [],
   "metadata": {}
  },
  {
   "cell_type": "code",
   "execution_count": 33,
   "source": [
    "def get_data(folder_path):\r\n",
    "    dirs = os.listdir(folder_path)\r\n",
    "    processed_doc = []\r\n",
    "    for path in tqdm(dirs):\r\n",
    "        file_paths = os.listdir(os.path.join(folder_path, path))\r\n",
    "        for file_path in tqdm(file_paths):\r\n",
    "            with open(os.path.join(folder_path, path, file_path), 'r') as f:\r\n",
    "                lines = f.readlines()\r\n",
    "                lines = ' '.join(lines)\r\n",
    "                lines = gensim.utils.simple_preprocess(lines)\r\n",
    "                lines = ' '.join(lines)\r\n",
    "\r\n",
    "                # Tokenization of each document\r\n",
    "                tokenized_doc = word_tokenize(lines.lower())\r\n",
    "                #remove stop word\r\n",
    "                tokenized_doc = rm_stopword(tokenized_doc, STOPWORDS)\r\n",
    "                processed_doc.append([tokenized_doc,path])\r\n",
    "    return processed_doc\r\n",
    "\r\n",
    "def run_test(model, test_doc):\r\n",
    "    test_pass = 0\r\n",
    "    for index in range(len(test_doc)):\r\n",
    "        result = model.docvecs.most_similar(positive=[model.infer_vector(test_doc[index][0])],topn=6)\r\n",
    "        if (result[0][0] == test_doc[index][1]):\r\n",
    "            test_pass+= 1\r\n",
    "    return [test_pass,len(test_doc)+1]"
   ],
   "outputs": [],
   "metadata": {}
  },
  {
   "cell_type": "code",
   "execution_count": 34,
   "source": [
    "data_train = get_data(data_path)\r\n",
    "data_test = get_data(test_path)"
   ],
   "outputs": [
    {
     "output_type": "stream",
     "name": "stderr",
     "text": [
      "100%|██████████| 8/8 [00:00<00:00, 286.55it/s]\n",
      "100%|██████████| 10/10 [00:00<00:00, 298.43it/s]\n",
      "100%|██████████| 10/10 [00:00<00:00, 514.90it/s]\n",
      "100%|██████████| 10/10 [00:00<00:00, 640.24it/s]\n",
      "100%|██████████| 10/10 [00:00<00:00, 500.78it/s]\n",
      "100%|██████████| 8/8 [00:00<00:00, 510.97it/s]\n",
      "100%|██████████| 6/6 [00:00<00:00, 35.02it/s]\n",
      "100%|██████████| 3/3 [00:00<00:00, 192.43it/s]\n",
      "100%|██████████| 3/3 [00:00<00:00, 192.05it/s]\n",
      "100%|██████████| 3/3 [00:00<00:00, 166.45it/s]\n",
      "100%|██████████| 2/2 [00:00<00:00, 333.97it/s]\n",
      "100%|██████████| 3/3 [00:00<00:00, 447.04it/s]\n",
      "100%|██████████| 3/3 [00:00<00:00, 598.30it/s]\n",
      "100%|██████████| 6/6 [00:00<00:00, 71.57it/s]\n"
     ]
    }
   ],
   "metadata": {}
  },
  {
   "cell_type": "code",
   "execution_count": 35,
   "source": [
    "len(data_train)"
   ],
   "outputs": [
    {
     "output_type": "execute_result",
     "data": {
      "text/plain": [
       "56"
      ]
     },
     "metadata": {},
     "execution_count": 35
    }
   ],
   "metadata": {}
  },
  {
   "cell_type": "code",
   "execution_count": 36,
   "source": [
    "len(data_test)"
   ],
   "outputs": [
    {
     "output_type": "execute_result",
     "data": {
      "text/plain": [
       "17"
      ]
     },
     "metadata": {},
     "execution_count": 36
    }
   ],
   "metadata": {}
  },
  {
   "cell_type": "code",
   "execution_count": 37,
   "source": [
    "tagged_doc =[]\r\n",
    "for case in range(len(data_train)):\r\n",
    "    case_i = TaggedDocument(data_train[case][0],[data_train[case][1]])\r\n",
    "    tagged_doc.append(case_i)"
   ],
   "outputs": [],
   "metadata": {}
  },
  {
   "cell_type": "code",
   "execution_count": 38,
   "source": [
    "import multiprocessing\r\n",
    "cores = multiprocessing.cpu_count()"
   ],
   "outputs": [],
   "metadata": {}
  },
  {
   "cell_type": "code",
   "execution_count": 39,
   "source": [
    "# Train doc2vec model\r\n",
    "model = Doc2Vec(tagged_doc, vector_size=300, window=2, min_count=1, workers=cores, epochs = 100)"
   ],
   "outputs": [],
   "metadata": {}
  },
  {
   "cell_type": "code",
   "execution_count": 148,
   "source": [
    "# Save trained doc2vec model\r\n",
    "model_path = os.path.dirname(os.path.realpath(os.getcwd()))\r\n",
    "model_path = os.path.join(model_path, 'models\\\\model_doc2vec_ielts.model')\r\n",
    "model.save(model_path)"
   ],
   "outputs": [],
   "metadata": {}
  },
  {
   "cell_type": "code",
   "execution_count": 149,
   "source": [
    "# Load saved doc2vec model\r\n",
    "model= Doc2Vec.load(model_path)"
   ],
   "outputs": [],
   "metadata": {}
  },
  {
   "cell_type": "code",
   "execution_count": 150,
   "source": [
    "# Test\r\n",
    "pass_percent = run_test(model, data_test)\r\n",
    "pass_percent"
   ],
   "outputs": [
    {
     "output_type": "execute_result",
     "data": {
      "text/plain": [
       "[12, 17]"
      ]
     },
     "metadata": {},
     "execution_count": 150
    }
   ],
   "metadata": {}
  },
  {
   "cell_type": "code",
   "execution_count": 140,
   "source": [
    "# find most similar doc topic\r\n",
    "\r\n",
    "text_check = \"\"\"\r\n",
    "Some believe children should be taught to give speeches and presentations in school.\r\n",
    "\r\n",
    "Why is this?\r\n",
    "\r\n",
    "Should this be taught in schools?\r\n",
    "\r\n",
    "Many believe that giving presentations and speeches ought to be a key part of school curricula for children. In my opinion, this is an attempt to develop a number of skills holistically and should be encouraged.\r\n",
    "\r\n",
    "The main reason schools incorporate presentations is to improve skills needed for the future. Children will later be expected to present individually and in groups throughout their academic career and in most work contexts. In order to give a competent presentation, children must first of all develop confidence speaking in front of others and then combine this with careful preparation, repeated practice, research, and, often, team-working skills. Each of these qualities will be useful later and the earlier students begin, the more likely they are to excel in areas that many adults still find challenging.\r\n",
    "\r\n",
    "I would recommend this practice continues since integration of skills contributes to greater progress. Skills developed on their own are often not as memorable. If a young child, for example, must do a book report with a group of other children this requires them to read the book, divide up sections of the presentation, communicate with team members, and deliver an engaging speech at the end. The combination of all skills makes the learning more memorable and likely to develop fixed characteristics. An illustrative analogy would be how an athlete practices for a sport. They can master individual skills on their own but the greatest progress comes when they blend them under the intense pressure of a game.\r\n",
    "\r\n",
    "In conclusion, educators often teach public speaking in order to prepare students for the future and this multidisciplinary approach is a positive. Presentations and speeches are also a good way to combine and review past lessons.\r\n",
    "\"\"\""
   ],
   "outputs": [],
   "metadata": {}
  },
  {
   "cell_type": "code",
   "execution_count": 141,
   "source": [
    "model = Doc2Vec.load(model_path)\r\n",
    "test_doc = word_tokenize(text_check.lower())\r\n",
    "result = model.docvecs.most_similar(positive=[model.infer_vector(test_doc)],topn=6)\r\n",
    "result"
   ],
   "outputs": [
    {
     "output_type": "execute_result",
     "data": {
      "text/plain": [
       "[('education', 0.7760127782821655),\n",
       " ('crime and punishment', 0.6115237474441528),\n",
       " ('bussiness', 0.5060230493545532),\n",
       " ('health', 0.48205405473709106),\n",
       " ('enviroment', 0.45736056566238403),\n",
       " ('technology', 0.3190247118473053)]"
      ]
     },
     "metadata": {},
     "execution_count": 141
    }
   ],
   "metadata": {}
  }
 ],
 "metadata": {
  "kernelspec": {
   "name": "python3",
   "display_name": "Python 3.9.7 64-bit"
  },
  "language_info": {
   "codemirror_mode": {
    "name": "ipython",
    "version": 3
   },
   "file_extension": ".py",
   "mimetype": "text/x-python",
   "name": "python",
   "nbconvert_exporter": "python",
   "pygments_lexer": "ipython3",
   "version": "3.9.7"
  },
  "interpreter": {
   "hash": "c2a992d86943bdbb1a93721aa8faf11a2d48a4b1fd05bac4b69f4b63e0ef12fd"
  }
 },
 "nbformat": 4,
 "nbformat_minor": 5
}