{
 "cells": [
  {
   "cell_type": "code",
   "execution_count": null,
   "id": "9a01efa1",
   "metadata": {},
   "outputs": [],
   "source": [
    "import requests\n",
    "from bs4 import BeautifulSoup\n",
    "import pandas as pd\n",
    "import re\n",
    "import os\n",
    "from pathlib import Path\n"
   ]
  },
  {
   "cell_type": "code",
   "execution_count": null,
   "id": "30275def",
   "metadata": {},
   "outputs": [],
   "source": [
    "\n",
    "count = 0"
   ]
  },
  {
   "cell_type": "code",
   "execution_count": null,
   "id": "e62a1c77",
   "metadata": {},
   "outputs": [],
   "source": [
    "def store_data(data,topic):\n",
    "    global count\n",
    "    cwd = os.getcwd()\n",
    "    cwd = os.path.join(cwd,'train_data')\n",
    "    complete_dir = os.path.join(cwd, topic)\n",
    "    print(complete_dir)\n",
    "    if not os.path.exists(complete_dir):\n",
    "        os.makedirs(complete_dir)\n",
    "    file_path = os.path.join(complete_dir,str(count) + '.txt')\n",
    "    print(file_path)\n",
    "    with open(file_path, 'w',encoding=\"utf-8\") as f:\n",
    "        f.write(data)\n",
    "        f.close()\n",
    "    count += 1\n"
   ]
  },
  {
   "cell_type": "code",
   "execution_count": null,
   "id": "51da10f1",
   "metadata": {},
   "outputs": [],
   "source": [
    "def basic_handding(data_context):\n",
    "    data_context =re.sub(r'\\n+', '\\n', data_context).strip()\n",
    "    data_context =re.sub(r'{6}.+\\n', '', data_context).strip()\n",
    "    data_context =re.sub(r'https://.+\\n', '', data_context).strip()\n",
    "    return data_context"
   ]
  },
  {
   "cell_type": "code",
   "execution_count": null,
   "id": "e97303ad",
   "metadata": {},
   "outputs": [],
   "source": [
    "list_topic = ['covid-19']\n"
   ]
  },
  {
   "cell_type": "code",
   "execution_count": null,
   "id": "611679f0",
   "metadata": {},
   "outputs": [],
   "source": [
    "import threading\n",
    "threadLock = threading.Lock()"
   ]
  },
  {
   "cell_type": "code",
   "execution_count": null,
   "id": "dc3d8877",
   "metadata": {},
   "outputs": [],
   "source": [
    "\n",
    "\n",
    "class FirstThread(threading.Thread):\n",
    "  def __init__(self,thread_name,start_index,end_index,topic):\n",
    "    threading.Thread.__init__(self)\n",
    "    self.start_index = start_index\n",
    "    self.end_index = end_index\n",
    "    self.topic = topic\n",
    "    self.thread_name = thread_name\n",
    "  def run(self):\n",
    "\n",
    "    global count\n",
    "    for i in range(self.start_index,self.end_index):\n",
    "        url = 'https://theconversation.com/us/{}/articles?page={}'.format(self.topic,i)\n",
    "        headers = {\n",
    "        'User-Agent': \"Mozilla/5.0 (X11; Linux x86_64) AppleWebKit/537.36 (KHTML, like Gecko) Chrome/77.0.3865.90 Safari/537.36\"\n",
    "        }\n",
    "        response = requests.request(\"GET\", url, headers=headers)\n",
    "        search_page_data = BeautifulSoup(response.text, 'html.parser')\n",
    "        \n",
    "        list_articles = search_page_data.find_all('article',attrs={'class':'clearfix placed analysis published'})\n",
    "\n",
    "        \n",
    "        for article in list_articles:\n",
    "            article_url = 'https://theconversation.com'+article.find('a',attrs={'class':'article-link'})['href']\n",
    "            print(article_url)\n",
    "            headers_article_url = {\n",
    "            'User-Agent': \"Mozilla/5.0 (X11; Linux x86_64) AppleWebKit/537.36 (KHTML, like Gecko) Chrome/77.0.3865.90 Safari/537.36\"\n",
    "            }\n",
    "            response_article = requests.request(\"GET\", article_url, headers=headers_article_url)\n",
    "            data_article = BeautifulSoup(response_article.text, 'html.parser')\n",
    "            content_data  =data_article.find_all('div',attrs={'class':'grid-ten large-grid-nine grid-last content-body content entry-content instapaper_body inline-promos'})\n",
    "            for content in content_data:\n",
    "                threadLock.acquire()\n",
    "                print(basic_handding(content.text))\n",
    "                store_data(basic_handding(content.text),topic)\n",
    "                print('#'*200)\n",
    "                threadLock.release()\n",
    "\n",
    "    \n"
   ]
  },
  {
   "cell_type": "code",
   "execution_count": null,
   "id": "9bf14fd0",
   "metadata": {},
   "outputs": [],
   "source": [
    "count = 0\n",
    "for topic in list_topic:\n",
    "  thread1 = FirstThread(\"Thread_1\", 1,15,topic)\n",
    "  thread2 = FirstThread(\"Thread_2\", 15,30,topic)\n",
    "  thread3 = FirstThread(\"Thread_3\", 30,45,topic)\n",
    "  thread4 = FirstThread(\"Thread_4\", 45,60,topic)\n",
    "  thread5 = FirstThread(\"Thread_5\", 60,75,topic)\n",
    "  thread6 = FirstThread(\"Thread_6\", 75,90,topic)\n",
    "\n",
    "  thread2.start()\n",
    "  thread3.start()\n",
    "  thread4.start()\n",
    "  thread5.start()\n",
    "  thread6.start()\n",
    "\n",
    "\n",
    "  threads = [thread1, thread2, thread3, thread4, thread5, thread6]\n",
    "\n",
    "  for t in threads:\n",
    "    t.join()\n"
   ]
  }
 ],
 "metadata": {
  "kernelspec": {
   "display_name": "Python 3 (ipykernel)",
   "language": "python",
   "name": "python3"
  },
  "language_info": {
   "codemirror_mode": {
    "name": "ipython",
    "version": 3
   },
   "file_extension": ".py",
   "mimetype": "text/x-python",
   "name": "python",
   "nbconvert_exporter": "python",
   "pygments_lexer": "ipython3",
   "version": "3.9.7"
  }
 },
 "nbformat": 4,
 "nbformat_minor": 5
}
