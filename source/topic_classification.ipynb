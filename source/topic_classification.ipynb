{
  "cells": [
    {
      "cell_type": "markdown",
      "metadata": {
        "id": "B4HnOC6jp5gh"
      },
      "source": [
        "# **Prepare data**"
      ]
    },
    {
      "cell_type": "code",
      "execution_count": 11,
      "metadata": {
        "id": "owhhh9kQodfc"
      },
      "outputs": [
        {
          "name": "stderr",
          "output_type": "stream",
          "text": [
            "'gdown' is not recognized as an internal or external command,\n",
            "operable program or batch file.\n"
          ]
        }
      ],
      "source": [
        "!gdown --id 1rIcrwTKF7S-uO6CPsOta_ZGsiWiHOcJu"
      ]
    },
    {
      "cell_type": "code",
      "execution_count": 12,
      "metadata": {
        "id": "4oh4gp5yrVKG"
      },
      "outputs": [
        {
          "name": "stderr",
          "output_type": "stream",
          "text": [
            "'unzip' is not recognized as an internal or external command,\n",
            "operable program or batch file.\n"
          ]
        }
      ],
      "source": [
        "!unzip train_data.zip "
      ]
    },
    {
      "cell_type": "markdown",
      "metadata": {
        "id": "zWvurewxrInM"
      },
      "source": [
        "# **Import packages**"
      ]
    },
    {
      "cell_type": "code",
      "execution_count": 13,
      "metadata": {
        "colab": {
          "base_uri": "https://localhost:8080/"
        },
        "id": "FZcKGJnarMpB",
        "outputId": "aa434fe7-ce6c-4fe8-d9b0-5f9794f1133e"
      },
      "outputs": [
        {
          "name": "stderr",
          "output_type": "stream",
          "text": [
            "[nltk_data] Downloading package punkt to\n",
            "[nltk_data]     C:\\Users\\ASUS\\AppData\\Roaming\\nltk_data...\n",
            "[nltk_data]   Package punkt is already up-to-date!\n"
          ]
        },
        {
          "data": {
            "text/plain": [
              "True"
            ]
          },
          "execution_count": 13,
          "metadata": {},
          "output_type": "execute_result"
        }
      ],
      "source": [
        "from tqdm import tqdm\n",
        "import numpy as np\n",
        "import gensim\n",
        "import os \n",
        "from nltk.tokenize import word_tokenize\n",
        "from gensim.models.doc2vec import Doc2Vec, TaggedDocument\n",
        "from gensim.parsing.preprocessing import remove_stopwords\n",
        "from gensim.parsing.preprocessing import STOPWORDS\n",
        "import multiprocessing\n",
        "import nltk\n",
        "nltk.download('punkt')"
      ]
    },
    {
      "cell_type": "code",
      "execution_count": 14,
      "metadata": {
        "id": "qDo-BTB8rr8S"
      },
      "outputs": [],
      "source": [
        "dir_path = os.path.dirname(os.path.realpath(os.getcwd()))\n",
        "data_path = os.path.join(dir_path, 'data\\\\train_data')\n",
        "cores = multiprocessing.cpu_count()"
      ]
    },
    {
      "cell_type": "code",
      "execution_count": 15,
      "metadata": {
        "colab": {
          "base_uri": "https://localhost:8080/",
          "height": 35
        },
        "id": "NnFwp9dZr17K",
        "outputId": "1358745c-5e24-4df9-c4d3-6434a84d18c1"
      },
      "outputs": [
        {
          "data": {
            "text/plain": [
              "'C:\\\\Users\\\\ASUS\\\\Documents\\\\Projects\\\\Python\\\\topic-classification\\\\data\\\\train_data'"
            ]
          },
          "execution_count": 15,
          "metadata": {},
          "output_type": "execute_result"
        }
      ],
      "source": [
        "data_path"
      ]
    },
    {
      "cell_type": "markdown",
      "metadata": {
        "id": "nRrq_Vh2smZI"
      },
      "source": [
        "# **Pre-process data**"
      ]
    },
    {
      "cell_type": "code",
      "execution_count": 16,
      "metadata": {
        "id": "TW6Jk7PZs9rM"
      },
      "outputs": [],
      "source": [
        "def rm_stopwords(tokenized_doc, stop_words):\n",
        "    tok_without_sw=[]\n",
        "    for txt_tokens in tokenized_doc:\n",
        "        tok_without_sw = [word for word in tokenized_doc if not word.lower() in STOPWORDS]\n",
        "    return tok_without_sw"
      ]
    },
    {
      "cell_type": "code",
      "execution_count": 17,
      "metadata": {
        "id": "asfzWSogs3fG"
      },
      "outputs": [],
      "source": [
        "def process_data(data):\n",
        "    data = ' '.join(data)\n",
        "    data = gensim.utils.simple_preprocess(data)\n",
        "    data = ' '.join(data)\n",
        "    processed_data = word_tokenize(data)\n",
        "    processed_data = rm_stopwords(processed_data, STOPWORDS)\n",
        "    return processed_data\n"
      ]
    },
    {
      "cell_type": "code",
      "execution_count": 18,
      "metadata": {
        "id": "sjsUjKrfsyuG"
      },
      "outputs": [],
      "source": [
        "def get_data(folder_path):\n",
        "    dirs = os.listdir(folder_path)\n",
        "    processed_doc = []\n",
        "    for path in tqdm(dirs):\n",
        "        file_paths = os.listdir(os.path.join(folder_path, path))\n",
        "        for file_path in tqdm(file_paths):\n",
        "            with open(os.path.join(folder_path, path, file_path), 'r',encoding='utf-8') as f:\n",
        "                data = f.readlines()\n",
        "                tokenized_doc = process_data(data)\n",
        "                processed_doc.append([tokenized_doc,path])\n",
        "    return processed_doc"
      ]
    },
    {
      "cell_type": "code",
      "execution_count": 19,
      "metadata": {
        "id": "jWULDmPGuqiD"
      },
      "outputs": [],
      "source": [
        "def tagging_data(data):\n",
        "    tagged_doc =[]\n",
        "    for case in range(len(data)):\n",
        "      case_i = TaggedDocument(data[case][0],[data[case][1]])\n",
        "      tagged_doc.append(case_i)\n",
        "    return tagged_doc"
      ]
    },
    {
      "cell_type": "code",
      "execution_count": 20,
      "metadata": {
        "colab": {
          "base_uri": "https://localhost:8080/"
        },
        "id": "lXVqbE44uNge",
        "outputId": "127dacc4-28f6-4caf-f543-5349536e82ed"
      },
      "outputs": [
        {
          "name": "stderr",
          "output_type": "stream",
          "text": [
            "100%|██████████| 1752/1752 [04:30<00:00,  6.49it/s]\n",
            "100%|██████████| 1795/1795 [02:27<00:00, 12.18it/s]\n",
            "100%|██████████| 286/286 [00:28<00:00,  9.96it/s]\n",
            "100%|██████████| 1845/1845 [02:58<00:00, 10.33it/s]\n",
            "100%|██████████| 1826/1826 [02:49<00:00, 10.77it/s]\n",
            "100%|██████████| 1780/1780 [02:44<00:00, 10.79it/s]\n",
            "100%|██████████| 1608/1608 [02:54<00:00,  9.21it/s]\n",
            "100%|██████████| 1832/1832 [02:59<00:00, 10.23it/s]\n",
            "100%|██████████| 8/8 [21:52<00:00, 164.12s/it]\n"
          ]
        }
      ],
      "source": [
        "data_train = get_data(data_path)"
      ]
    },
    {
      "cell_type": "code",
      "execution_count": 21,
      "metadata": {
        "colab": {
          "base_uri": "https://localhost:8080/"
        },
        "id": "5tC_fSdFuUul",
        "outputId": "c516582a-9867-4c28-b7dd-475ae6319d96"
      },
      "outputs": [
        {
          "data": {
            "text/plain": [
              "12724"
            ]
          },
          "execution_count": 21,
          "metadata": {},
          "output_type": "execute_result"
        }
      ],
      "source": [
        "len(data_train)"
      ]
    },
    {
      "cell_type": "code",
      "execution_count": 22,
      "metadata": {
        "id": "DOml3nZGvGJT"
      },
      "outputs": [],
      "source": [
        "tagged_doc = tagging_data(data_train)"
      ]
    },
    {
      "cell_type": "markdown",
      "metadata": {
        "id": "DUgrA4PAvVDS"
      },
      "source": [
        "# **Train model**"
      ]
    },
    {
      "cell_type": "code",
      "execution_count": 23,
      "metadata": {
        "id": "ZYT3CLTfvY4J"
      },
      "outputs": [],
      "source": [
        "model = Doc2Vec(tagged_doc, vector_size=300, window=5, min_count=20, workers=cores, epochs = 80)"
      ]
    },
    {
      "cell_type": "code",
      "execution_count": 24,
      "metadata": {
        "id": "_9iPlK5ZveNO"
      },
      "outputs": [],
      "source": [
        "model_path = os.path.dirname(os.path.realpath(os.getcwd()))\n",
        "model_path = os.path.join(model_path, 'models\\\\d2v.model')\n",
        "model.save(model_path)"
      ]
    },
    {
      "cell_type": "markdown",
      "metadata": {
        "id": "DgQ-ZPcMviUt"
      },
      "source": [
        "# **Test model**"
      ]
    },
    {
      "cell_type": "code",
      "execution_count": 25,
      "metadata": {
        "id": "YNCS9VHCvnW9"
      },
      "outputs": [],
      "source": [
        "model= Doc2Vec.load(model_path)"
      ]
    },
    {
      "cell_type": "code",
      "execution_count": 26,
      "metadata": {
        "id": "Jq69r7rlvs29"
      },
      "outputs": [],
      "source": [
        "text_check = \"\"\"\n",
        "The Health Ministry has proposed to stop all non-essential activities with large gatherings during the incoming Lunar New Year holiday in light of recent Covid-19 surges.\n",
        "In a document sent to the Government Office on Friday, the Ministry of Health stated the number of Covid-19 cases in the community has been rising, especially in areas with high population and traffic density.\n",
        "\n",
        "The Omicron variant circulating around the world is also a concerning variable, despite Vietnam having recorded no such infection, it added.\n",
        "\n",
        "Tran Dac Phu, former head of the General Department of Preventive Medicine, said essential activities for economic development and production should be sustained, while other activities could continue under certain conditions, or be suspended.\n",
        "\n",
        "Choosing to live with the virus means there would be more cases, he added. \"People should only go to places with large gatherings when it's truly necessary, avoid parties and reduce the number of people in meetings, especially in the coming times.\"\n",
        "\n",
        "Vietnam has recorded over 1.5 million Covid-19 cases in the fourth coronavirus wave, with over 29,000 deaths. Both infections and deaths have been on the rise lately, with around 15,000 new cases daily.\n",
        "\n",
        "Compared to the previous month, the number of community transmission cases has risen by 186.4 percent, and the number of severe cases, by 62.2 percent.\n",
        "\n",
        "Tet, or the Lunar New Year, is Vietnam's biggest holiday which normally involves a lot of festivals, partying and traveling. The holiday peaks on February 1 this year.\"\"\""
      ]
    },
    {
      "cell_type": "code",
      "execution_count": 27,
      "metadata": {
        "colab": {
          "base_uri": "https://localhost:8080/"
        },
        "id": "xu0r7BA1vtYF",
        "outputId": "7f85585c-91b1-43cf-e069-07cf95530345"
      },
      "outputs": [
        {
          "name": "stderr",
          "output_type": "stream",
          "text": [
            "C:\\Users\\ASUS\\AppData\\Local\\Temp/ipykernel_22984/2414871597.py:3: DeprecationWarning: Call to deprecated `docvecs` (The `docvecs` property has been renamed `dv`.).\n",
            "  result = model.docvecs.most_similar(positive=[model.infer_vector(test_doc)],topn=5)\n"
          ]
        },
        {
          "data": {
            "text/plain": [
              "[('covid-19', 0.36554476618766785),\n",
              " ('health', 0.2853069007396698),\n",
              " ('politics', 0.2283198982477188),\n",
              " ('business', 0.17431792616844177),\n",
              " ('environment', 0.12269987910985947)]"
            ]
          },
          "execution_count": 27,
          "metadata": {},
          "output_type": "execute_result"
        }
      ],
      "source": [
        "model = Doc2Vec.load(model_path)\n",
        "test_doc = word_tokenize(text_check.lower())\n",
        "result = model.docvecs.most_similar(positive=[model.infer_vector(test_doc)],topn=5)\n",
        "result"
      ]
    },
    {
      "cell_type": "code",
      "execution_count": 28,
      "metadata": {
        "colab": {
          "base_uri": "https://localhost:8080/"
        },
        "id": "khIWYrMTaUu2",
        "outputId": "f723b36b-e1aa-4f76-b7d0-00bafa029515"
      },
      "outputs": [
        {
          "name": "stdout",
          "output_type": "stream",
          "text": [
            "Package                       Version\n",
            "----------------------------- ---------\n",
            "backcall                      0.2.0\n",
            "backports.functools-lru-cache 1.6.4\n",
            "beautifulsoup4                4.10.0\n",
            "boto                          2.49.0\n",
            "boto3                         1.18.21\n",
            "botocore                      1.21.41\n",
            "Bottleneck                    1.3.2\n",
            "brotlipy                      0.7.0\n",
            "bz2file                       0.98\n",
            "certifi                       2021.10.8\n",
            "cffi                          1.15.0\n",
            "charset-normalizer            2.0.4\n",
            "click                         8.0.3\n",
            "colorama                      0.4.4\n",
            "cryptography                  36.0.0\n",
            "Cython                        0.29.23\n",
            "debugpy                       1.5.1\n",
            "decorator                     5.1.0\n",
            "entrypoints                   0.3\n",
            "gensim                        4.0.1\n",
            "idna                          3.3\n",
            "ipykernel                     6.6.0\n",
            "ipython                       7.30.1\n",
            "jedi                          0.18.1\n",
            "jmespath                      0.10.0\n",
            "joblib                        1.1.0\n",
            "jupyter-client                7.1.0\n",
            "jupyter-core                  4.9.1\n",
            "matplotlib-inline             0.1.3\n",
            "mkl-fft                       1.3.1\n",
            "mkl-random                    1.2.2\n",
            "mkl-service                   2.4.0\n",
            "nest-asyncio                  1.5.4\n",
            "nltk                          3.6.5\n",
            "numexpr                       2.7.3\n",
            "numpy                         1.21.2\n",
            "pandas                        1.3.4\n",
            "parso                         0.8.3\n",
            "pickleshare                   0.7.5\n",
            "pip                           21.2.4\n",
            "prompt-toolkit                3.0.24\n",
            "pycparser                     2.21\n",
            "Pygments                      2.10.0\n",
            "pyOpenSSL                     21.0.0\n",
            "PySocks                       1.7.1\n",
            "python-dateutil               2.8.2\n",
            "pytz                          2021.3\n",
            "pywin32                       302\n",
            "pyzmq                         22.3.0\n",
            "regex                         2021.8.3\n",
            "requests                      2.26.0\n",
            "s3transfer                    0.5.0\n",
            "scipy                         1.7.1\n",
            "setuptools                    58.0.4\n",
            "six                           1.16.0\n",
            "smart-open                    1.9.0\n",
            "soupsieve                     2.3.1\n",
            "tornado                       6.1\n",
            "tqdm                          4.62.3\n",
            "traitlets                     5.1.1\n",
            "urllib3                       1.26.7\n",
            "wcwidth                       0.2.5\n",
            "wheel                         0.37.0\n",
            "win-inet-pton                 1.1.0\n",
            "wincertstore                  0.2\n"
          ]
        }
      ],
      "source": [
        "!pip list"
      ]
    }
  ],
  "metadata": {
    "colab": {
      "collapsed_sections": [],
      "name": "topic-classification.ipynb",
      "provenance": [],
      "toc_visible": true
    },
    "kernelspec": {
      "display_name": "Python 3",
      "name": "python3"
    },
    "language_info": {
      "codemirror_mode": {
        "name": "ipython",
        "version": 3
      },
      "file_extension": ".py",
      "mimetype": "text/x-python",
      "name": "python",
      "nbconvert_exporter": "python",
      "pygments_lexer": "ipython3",
      "version": "3.9.7"
    }
  },
  "nbformat": 4,
  "nbformat_minor": 0
}
