{
 "cells": [
  {
   "cell_type": "code",
   "execution_count": 7,
   "metadata": {},
   "outputs": [],
   "source": [
    "# Repearing the Training and Test data\n",
    "import os\n",
    "import gensim\n",
    "test_data_dir = os.path.join(gensim.__path__[0], 'test', 'test_data')\n",
    "lee_train_file = os.path.join(test_data_dir, 'lee_background.cor')\n",
    "lee_test_file = os.path.join(test_data_dir, 'lee.cor')"
   ]
  },
  {
   "cell_type": "code",
   "execution_count": 8,
   "metadata": {},
   "outputs": [
    {
     "data": {
      "text/plain": [
       "[['the',\n",
       "  'national',\n",
       "  'executive',\n",
       "  'of',\n",
       "  'the',\n",
       "  'strife',\n",
       "  'torn',\n",
       "  'democrats',\n",
       "  'last',\n",
       "  'night',\n",
       "  'appointed',\n",
       "  'little',\n",
       "  'known',\n",
       "  'west',\n",
       "  'australian',\n",
       "  'senator',\n",
       "  'brian',\n",
       "  'greig',\n",
       "  'as',\n",
       "  'interim',\n",
       "  'leader',\n",
       "  'shock',\n",
       "  'move',\n",
       "  'likely',\n",
       "  'to',\n",
       "  'provoke',\n",
       "  'further',\n",
       "  'conflict',\n",
       "  'between',\n",
       "  'the',\n",
       "  'party',\n",
       "  'senators',\n",
       "  'and',\n",
       "  'its',\n",
       "  'organisation',\n",
       "  'in',\n",
       "  'move',\n",
       "  'to',\n",
       "  'reassert',\n",
       "  'control',\n",
       "  'over',\n",
       "  'the',\n",
       "  'party',\n",
       "  'seven',\n",
       "  'senators',\n",
       "  'the',\n",
       "  'national',\n",
       "  'executive',\n",
       "  'last',\n",
       "  'night',\n",
       "  'rejected',\n",
       "  'aden',\n",
       "  'ridgeway',\n",
       "  'bid',\n",
       "  'to',\n",
       "  'become',\n",
       "  'interim',\n",
       "  'leader',\n",
       "  'in',\n",
       "  'favour',\n",
       "  'of',\n",
       "  'senator',\n",
       "  'greig',\n",
       "  'supporter',\n",
       "  'of',\n",
       "  'deposed',\n",
       "  'leader',\n",
       "  'natasha',\n",
       "  'stott',\n",
       "  'despoja',\n",
       "  'and',\n",
       "  'an',\n",
       "  'outspoken',\n",
       "  'gay',\n",
       "  'rights',\n",
       "  'activist'],\n",
       " ['cash',\n",
       "  'strapped',\n",
       "  'financial',\n",
       "  'services',\n",
       "  'group',\n",
       "  'amp',\n",
       "  'has',\n",
       "  'shelved',\n",
       "  'million',\n",
       "  'plan',\n",
       "  'to',\n",
       "  'buy',\n",
       "  'shares',\n",
       "  'back',\n",
       "  'from',\n",
       "  'investors',\n",
       "  'and',\n",
       "  'will',\n",
       "  'raise',\n",
       "  'million',\n",
       "  'in',\n",
       "  'fresh',\n",
       "  'capital',\n",
       "  'after',\n",
       "  'profits',\n",
       "  'crashed',\n",
       "  'in',\n",
       "  'the',\n",
       "  'six',\n",
       "  'months',\n",
       "  'to',\n",
       "  'june',\n",
       "  'chief',\n",
       "  'executive',\n",
       "  'paul',\n",
       "  'batchelor',\n",
       "  'said',\n",
       "  'the',\n",
       "  'result',\n",
       "  'was',\n",
       "  'solid',\n",
       "  'in',\n",
       "  'what',\n",
       "  'he',\n",
       "  'described',\n",
       "  'as',\n",
       "  'the',\n",
       "  'worst',\n",
       "  'conditions',\n",
       "  'for',\n",
       "  'stock',\n",
       "  'markets',\n",
       "  'in',\n",
       "  'years',\n",
       "  'amp',\n",
       "  'half',\n",
       "  'year',\n",
       "  'profit',\n",
       "  'sank',\n",
       "  'per',\n",
       "  'cent',\n",
       "  'to',\n",
       "  'million',\n",
       "  'or',\n",
       "  'share',\n",
       "  'as',\n",
       "  'australia',\n",
       "  'largest',\n",
       "  'investor',\n",
       "  'and',\n",
       "  'fund',\n",
       "  'manager',\n",
       "  'failed',\n",
       "  'to',\n",
       "  'hit',\n",
       "  'projected',\n",
       "  'per',\n",
       "  'cent',\n",
       "  'earnings',\n",
       "  'growth',\n",
       "  'targets',\n",
       "  'and',\n",
       "  'was',\n",
       "  'battered',\n",
       "  'by',\n",
       "  'falling',\n",
       "  'returns',\n",
       "  'on',\n",
       "  'share',\n",
       "  'markets']]"
      ]
     },
     "execution_count": 8,
     "metadata": {},
     "output_type": "execute_result"
    }
   ],
   "source": [
    "# Define a Function to Read and Preprocess Text\n",
    "import smart_open\n",
    "\n",
    "def read_corpus(fname, tokens_only=False):\n",
    "    with smart_open.open(fname, encoding=\"iso-8859-1\") as f:\n",
    "        for i, line in enumerate(f):\n",
    "            tokens = gensim.utils.simple_preprocess(line)\n",
    "            if tokens_only:\n",
    "                yield tokens\n",
    "            else:\n",
    "                # For training data, add tags\n",
    "                yield gensim.models.doc2vec.TaggedDocument(tokens, [i])\n",
    "\n",
    "train_corpus = list(read_corpus(lee_train_file))\n",
    "test_corpus = list(read_corpus(lee_test_file, tokens_only=True))\n",
    "\n",
    "train_corpus[:2]\n",
    "test_corpus[:2]"
   ]
  },
  {
   "cell_type": "code",
   "execution_count": 18,
   "metadata": {},
   "outputs": [
    {
     "name": "stdout",
     "output_type": "stream",
     "text": [
      "Word 'penalty' appeared 4 times in the training corpus.\n"
     ]
    }
   ],
   "source": [
    "# Training the Model\n",
    "model = gensim.models.doc2vec.Doc2Vec(vector_size=50, min_count=2, epochs=40)\n",
    "model.build_vocab(train_corpus)\n",
    "print(f\"Word 'penalty' appeared {model.wv.get_vecattr('penalty', 'count')} times in the training corpus.\")\n",
    "model.train(train_corpus, total_examples=model.corpus_count, epochs=model.epochs)\n"
   ]
  },
  {
   "cell_type": "code",
   "execution_count": 10,
   "metadata": {},
   "outputs": [
    {
     "data": {
      "text/plain": [
       "array([-0.1675882 , -0.27366742, -0.10139403,  0.2121064 , -0.03583408,\n",
       "       -0.09157623,  0.04313027,  0.08175007, -0.26609933, -0.11163501,\n",
       "        0.12789114, -0.08119049, -0.02012281, -0.08292892, -0.15383506,\n",
       "       -0.18261328,  0.10000724,  0.20067796,  0.18077599, -0.02304729,\n",
       "       -0.09908886, -0.05827311,  0.20005772,  0.08254921, -0.0438288 ,\n",
       "       -0.03906713, -0.21980903, -0.04157836, -0.10934214,  0.01641025,\n",
       "        0.36733457, -0.07394706,  0.22100867,  0.15016866,  0.18227561,\n",
       "        0.1807672 , -0.03406857, -0.20708029, -0.15636607,  0.06444842,\n",
       "       -0.04698168, -0.03685278,  0.10404624, -0.13286287,  0.02096705,\n",
       "        0.17298155, -0.14990675, -0.02450923,  0.09067685, -0.05523528],\n",
       "      dtype=float32)"
      ]
     },
     "execution_count": 10,
     "metadata": {},
     "output_type": "execute_result"
    }
   ],
   "source": [
    "vector = model.infer_vector(['only', 'you', 'can', 'prevent', 'forest', 'fires'])\n",
    "vector"
   ]
  },
  {
   "cell_type": "code",
   "execution_count": 11,
   "metadata": {},
   "outputs": [],
   "source": [
    "# Assessing the Model\n",
    "ranks = []\n",
    "second_ranks = []\n",
    "for doc_id in range(len(train_corpus)):\n",
    "    inferred_vector = model.infer_vector(train_corpus[doc_id].words)\n",
    "    sims = model.dv.most_similar([inferred_vector], topn=len(model.dv))\n",
    "    rank = [docid for docid, sim in sims].index(doc_id)\n",
    "    ranks.append(rank)\n",
    "\n",
    "    second_ranks.append(sims[1])"
   ]
  },
  {
   "cell_type": "code",
   "execution_count": 12,
   "metadata": {},
   "outputs": [
    {
     "data": {
      "text/plain": [
       "Counter({0: 293, 1: 7})"
      ]
     },
     "execution_count": 12,
     "metadata": {},
     "output_type": "execute_result"
    }
   ],
   "source": [
    "import collections\n",
    "\n",
    "counter = collections.Counter(ranks)\n",
    "counter"
   ]
  },
  {
   "cell_type": "code",
   "execution_count": 13,
   "metadata": {},
   "outputs": [
    {
     "name": "stdout",
     "output_type": "stream",
     "text": [
      "Document (299): «australia will take on france in the doubles rubber of the davis cup tennis final today with the tie levelled at wayne arthurs and todd woodbridge are scheduled to lead australia in the doubles against cedric pioline and fabrice santoro however changes can be made to the line up up to an hour before the match and australian team captain john fitzgerald suggested he might do just that we ll make team appraisal of the whole situation go over the pros and cons and make decision french team captain guy forget says he will not make changes but does not know what to expect from australia todd is the best doubles player in the world right now so expect him to play he said would probably use wayne arthurs but don know what to expect really pat rafter salvaged australia davis cup campaign yesterday with win in the second singles match rafter overcame an arm injury to defeat french number one sebastien grosjean in three sets the australian says he is happy with his form it not very pretty tennis there isn too many consistent bounces you are playing like said bit of classic old grass court rafter said rafter levelled the score after lleyton hewitt shock five set loss to nicholas escude in the first singles rubber but rafter says he felt no added pressure after hewitt defeat knew had good team to back me up even if we were down he said knew could win on the last day know the boys can win doubles so even if we were down still feel we are good enough team to win and vice versa they are good enough team to beat us as well»\n",
      "\n",
      "SIMILAR/DISSIMILAR DOCS PER MODEL Doc2Vec(dm/m,d50,n5,w5,mc2,s0.001,t3):\n",
      "\n",
      "MOST (299, 0.945820689201355): «australia will take on france in the doubles rubber of the davis cup tennis final today with the tie levelled at wayne arthurs and todd woodbridge are scheduled to lead australia in the doubles against cedric pioline and fabrice santoro however changes can be made to the line up up to an hour before the match and australian team captain john fitzgerald suggested he might do just that we ll make team appraisal of the whole situation go over the pros and cons and make decision french team captain guy forget says he will not make changes but does not know what to expect from australia todd is the best doubles player in the world right now so expect him to play he said would probably use wayne arthurs but don know what to expect really pat rafter salvaged australia davis cup campaign yesterday with win in the second singles match rafter overcame an arm injury to defeat french number one sebastien grosjean in three sets the australian says he is happy with his form it not very pretty tennis there isn too many consistent bounces you are playing like said bit of classic old grass court rafter said rafter levelled the score after lleyton hewitt shock five set loss to nicholas escude in the first singles rubber but rafter says he felt no added pressure after hewitt defeat knew had good team to back me up even if we were down he said knew could win on the last day know the boys can win doubles so even if we were down still feel we are good enough team to win and vice versa they are good enough team to beat us as well»\n",
      "\n",
      "SECOND-MOST (112, 0.7776761054992676): «australian cricket captain steve waugh has supported fast bowler brett lee after criticism of his intimidatory bowling to the south african tailenders in the first test in adelaide earlier this month lee was fined for giving new zealand tailender shane bond an unsportsmanlike send off during the third test in perth waugh says tailenders should not be protected from short pitched bowling these days you re earning big money you ve got responsibility to learn how to bat he said mean there no times like years ago when it was not professional and sort of bowlers code these days you re professional our batsmen work very hard at their batting and expect other tailenders to do likewise meanwhile waugh says his side will need to guard against complacency after convincingly winning the first test by runs waugh says despite the dominance of his side in the first test south africa can never be taken lightly it only one test match out of three or six whichever way you want to look at it so there lot of work to go he said but it nice to win the first battle definitely it gives us lot of confidence going into melbourne you know the big crowd there we love playing in front of the boxing day crowd so that will be to our advantage as well south africa begins four day match against new south wales in sydney on thursday in the lead up to the boxing day test veteran fast bowler allan donald will play in the warm up match and is likely to take his place in the team for the second test south african captain shaun pollock expects much better performance from his side in the melbourne test we still believe that we didn play to our full potential so if we can improve on our aspects the output we put out on the field will be lot better and we still believe we have side that is good enough to beat australia on our day he said»\n",
      "\n",
      "MEDIAN (155, 0.2420751452445984): «the former managing director of one tel has denied claims he mislead the board while the company was effectively insolvent jodee rich says civil proceedings brought by the australian securities and investment commission asic against him two other former directors and the former chairman are baseless asic claims that the true financial position of one tel was not made known to the other directors of the company however mr rich says there are discrepancies in the way asic has handled the investigation am concerned that as part of this process asic has not given us the opportunity to respond to the many claims that they alleged six months ago and that we haven had an opportunity to respond to these claims that they are now bringing to us he said»\n",
      "\n",
      "LEAST (243, -0.1426847130060196): «four afghan factions have reached agreement on an interim cabinet during talks in germany the united nations says the administration which will take over from december will be headed by the royalist anti taliban commander hamed karzai it concludes more than week of negotiations outside bonn and is aimed at restoring peace and stability to the war ravaged country the year old former deputy foreign minister who is currently battling the taliban around the southern city of kandahar is an ally of the exiled afghan king mohammed zahir shah he will serve as chairman of an interim authority that will govern afghanistan for six month period before loya jirga or grand traditional assembly of elders in turn appoints an month transitional government meanwhile united states marines are now reported to have been deployed in eastern afghanistan where opposition forces are closing in on al qaeda soldiers reports from the area say there has been gun battle between the opposition and al qaeda close to the tora bora cave complex where osama bin laden is thought to be hiding in the south of the country american marines are taking part in patrols around the air base they have secured near kandahar but are unlikely to take part in any assault on the city however the chairman of the joint chiefs of staff general richard myers says they are prepared for anything they are prepared for engagements they re robust fighting force and they re absolutely ready to engage if that required he said»\n",
      "\n"
     ]
    }
   ],
   "source": [
    "print('Document ({}): «{}»\\n'.format(doc_id, ' '.join(train_corpus[doc_id].words)))\n",
    "print(u'SIMILAR/DISSIMILAR DOCS PER MODEL %s:\\n' % model)\n",
    "for label, index in [('MOST', 0), ('SECOND-MOST', 1), ('MEDIAN', len(sims)//2), ('LEAST', len(sims) - 1)]:\n",
    "    print(u'%s %s: «%s»\\n' % (label, sims[index], ' '.join(train_corpus[sims[index][0]].words)))"
   ]
  },
  {
   "cell_type": "code",
   "execution_count": 14,
   "metadata": {},
   "outputs": [
    {
     "name": "stdout",
     "output_type": "stream",
     "text": [
      "Train Document (140): «osama bin laden admitted planning the september terrorist attacks on the united states in videotape released by the pentagon today in the videotape lasting roughly one hour bin laden explains planning aspects of the operation and his own calculations in advance concerning the scale of the damage to the world trade center in new york and the number of casualties he said he expected the fire and gas from the attacks on the world trade center to topple the floors above the points where hijacked planes struck not the entire structure we calculated in advance the number of casualties from the enemy who would be killed based on the position of the tower he said according to transcript translated into english from the arabic due to my experience in this field was thinking that the fire from the gas in the plane would melt the iron structure of the building and collapse the area where the plane hit and all the floors above it only he said that is all that we had hoped for the video tape showed bin laden speaking to supporters in room possibly in kandahar in mid november the pentagon said in releasing the amateur videotape which it said was made with the knowledge of bin laden and those present the tape showed the end of the meeting first followed by an unrelated segment of videotaped material and ending with segment recorded at the beginning of the meeting we had notification since the previous thursday that the event would take place that day he said speaking to unidentified sheikh we had finished our work that day and had the radio on it was pm our time was sitting with dr ahmad abu al khair he said immediately we heard the news that plane had hit the world trade center after while they announced that another plane had hit the world trade center the brothers who heard the news were overjoyed by it he said»\n",
      "\n",
      "Similar Document (167, 0.7349034547805786): «turning grief into defiance americans have paused in remembrance three months after the deadly september attacks as resolute president george bush forecast certain victory in his war on terrorism at am new york time am aedt the exact moment when hijacked airliner steered on suicide mission sliced into one of the twin towers of the world trade centre ceremonies in washington new york and around the world honoured some people killed on an unprecedented day of horror today the wrongs are being righted justice is being done mr bush said we still have far to go and many dangers still lie ahead yet there can be no doubt how this conflict will end in new york firefighters police officers and community leaders assembled in the wreckage strewn crater where the world trade centre stood until its signature towers were levelled on the bright sunny morning of september under grey skies lone tenor sung let there be peace on earth before priest rabbi and an imam addressed solemn crowd watched by new york mayor rudy giuliani who shepherded his city through september tragedy bagpipers performed haunting rendition of amazing grace as cranes and the heavy machinery of construction workers excavating the site stood idle at the pentagon the target of another hijacked airliner us flag was unfurled in front of gaping hole in the building where reconstruction is already under way lone christmas tree daubed with red lights was fixed to the roof metres from where the plane hit defence secretary donald rumsfeld vowed never to forget the victims who died at the pentagon the thousands more killed in new york and on those on hijacked plane that crashed in rural pennsylvania apparently after the intervention of passengers in the skies over pennsylvania they showed those who believed that americans would not fight back that they were ready to roll mr rumsfeld said the first person has been charged over the terrorist attacks in the united states three months ago zaccarias moussaoui was charged in connection with the september terrorist attacks as result of the wide ranging federal probe of the attacks united states attorney general john ashcroft said moussaoui french national of moroccan origin faces six counts in connection with the terrorists attacks against the world trade centre in new york and the pentagon outside washington that left more than people dead mr ashcroft told press conference four of those counts carry the death penalty the indictment also cites list of unindicted co conspirators headed by osama bin laden head of the al qaeda network and ayman al zawahiri head of the egyptian islamic jihad as unindicted co conspirators the list of co conspirators also includes the hijackers who commandeered the four jets that were used as aerial targets on september as well as two men who sent funds to the alleged terrorists»\n",
      "\n"
     ]
    }
   ],
   "source": [
    "# Pick a random document from the corpus and infer a vector from the model\n",
    "import random\n",
    "doc_id = random.randint(0, len(train_corpus) - 1)\n",
    "\n",
    "# Compare and print the second-most-similar document\n",
    "print('Train Document ({}): «{}»\\n'.format(doc_id, ' '.join(train_corpus[doc_id].words)))\n",
    "sim_id = second_ranks[doc_id]\n",
    "print('Similar Document {}: «{}»\\n'.format(sim_id, ' '.join(train_corpus[sim_id[0]].words)))"
   ]
  },
  {
   "cell_type": "code",
   "execution_count": 15,
   "metadata": {},
   "outputs": [
    {
     "name": "stdout",
     "output_type": "stream",
     "text": [
      "Test Document (3): «radical armed islamist group with ties to tehran and baghdad has helped al qaida establish an international terrorist training camp in northern iraq kurdish officials say intelligence officers in the autonomous kurdish region of iraq told the guardian that the ansar al islam supporters of islam group is harbouring up to al qaida members in string of villages it controls along the iraq iran border most of them fled afghanistan after the us led offensive but officials from the patriotic union of kurdistan puk which controls part of north east iraq claim an abnormal number of recruits are making their way to the area from jordan syria and egypt»\n",
      "\n",
      "SIMILAR/DISSIMILAR DOCS PER MODEL Doc2Vec(dm/m,d50,n5,w5,mc2,s0.001,t3):\n",
      "\n",
      "MOST (141, 0.7734178304672241): «united states air strikes on al qaeda fighters have intensified following the collapse of surrender talks with the northern alliance the battle for tora bora appears to be heading towards bloody climax northern alliance commanders have now abandoned all attempts to secure peaceful surrender of al qaeda militants trapped in the mountainous area of tora bora truckloads of armed men have been seen heading toward the area suggesting full scale ground attack is imminent us aircraft have been bombarding the militants position since first light effectively blocking any possible retreat around pakistani troops have fanned across the border in bid to prevent any al qaeda fighters escaping»\n",
      "\n",
      "MEDIAN (73, 0.15292109549045563): «the prime minister has thrown his full support behind the governor general dr peter hollingworth child rights campaigners have accused dr hollingworth of trying to cover up child abuse allegations at toowoomba anglican school when he was archbishop of brisbane in statement released earlier this week the governor general said the allegations were unfounded but there are continuing calls for dr hollingworth to resign but mr howard says he has confidence in the governor general don have any direct knowledge of this matter but ve talked to him about it and ve tried to form judgment mr howard said the criticism made is that he involved in cover up well there no evidence of that that ridiculous»\n",
      "\n",
      "LEAST (55, -0.23281531035900116): «melbourne weather is one of the question marks hanging over the second test between australia and south africa due to start at the mcg this morning melbourne shaky early summer weather is not yet on the improve this is test cricket traditional day of days and it is receiving melbourne traditional greeting cool and cloudy with possible showers the other questions are over each team pace attack south africa will probably be forced to take huge punt on veteran alan donald while australia is unlikely to punt on brad williams returning andy bichel to test cricket williams was called up to the after jason gillespie was ruled out of the test due to right shoulder injury bichel says he is looking forward to the challenge of call up to the starting side feel that ready to go for this game and looking forward to it bichel said the boxing day test has been good one for me ve got great memories of it so hopefully can repeat those the day is likely to provide conditions any quick bowler would relish bouncy with some seam beckoning the captain who wins the toss to turn his attack loose»\n",
      "\n"
     ]
    }
   ],
   "source": [
    "# Testing the Model\n",
    "# Pick a random document from the test corpus and infer a vector from the model\n",
    "doc_id = random.randint(0, len(test_corpus) - 1)\n",
    "inferred_vector = model.infer_vector(test_corpus[doc_id])\n",
    "sims = model.dv.most_similar([inferred_vector], topn=len(model.dv))\n",
    "\n",
    "# Compare and print the most/median/least similar documents from the train corpus\n",
    "print('Test Document ({}): «{}»\\n'.format(doc_id, ' '.join(test_corpus[doc_id])))\n",
    "print(u'SIMILAR/DISSIMILAR DOCS PER MODEL %s:\\n' % model)\n",
    "for label, index in [('MOST', 0), ('MEDIAN', len(sims)//2), ('LEAST', len(sims) - 1)]:\n",
    "    print(u'%s %s: «%s»\\n' % (label, sims[index], ' '.join(train_corpus[sims[index][0]].words)))"
   ]
  }
 ],
 "metadata": {
  "interpreter": {
   "hash": "c2a992d86943bdbb1a93721aa8faf11a2d48a4b1fd05bac4b69f4b63e0ef12fd"
  },
  "kernelspec": {
   "display_name": "Python 3.9.7 64-bit",
   "name": "python3"
  },
  "language_info": {
   "codemirror_mode": {
    "name": "ipython",
    "version": 3
   },
   "file_extension": ".py",
   "mimetype": "text/x-python",
   "name": "python",
   "nbconvert_exporter": "python",
   "pygments_lexer": "ipython3",
   "version": "3.9.7"
  },
  "orig_nbformat": 4
 },
 "nbformat": 4,
 "nbformat_minor": 2
}
